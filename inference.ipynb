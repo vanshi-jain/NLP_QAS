{
 "cells": [
  {
   "cell_type": "code",
   "execution_count": 46,
   "id": "a12da382-4780-47d5-b746-d1628a0acce1",
   "metadata": {},
   "outputs": [],
   "source": [
    "from transformers import AutoTokenizer, AutoModel,  DistilBertForQuestionAnswering\n",
    "import torch"
   ]
  },
  {
   "cell_type": "markdown",
   "id": "300bfe3a-a87d-4814-824c-44ab411ce564",
   "metadata": {},
   "source": [
    "## Loading the model from the path"
   ]
  },
  {
   "cell_type": "code",
   "execution_count": 47,
   "id": "fca00df7-1337-4264-9091-fc71313d2edc",
   "metadata": {},
   "outputs": [],
   "source": [
    "model_path = \"model\" #provide model path here (the model folder path)"
   ]
  },
  {
   "cell_type": "code",
   "execution_count": 48,
   "id": "a3e0e201-9380-4ec7-b55d-6f0cb074065f",
   "metadata": {},
   "outputs": [
    {
     "name": "stderr",
     "output_type": "stream",
     "text": [
      "Some weights of the model checkpoint at model were not used when initializing DistilBertModel: ['qa_outputs.bias', 'qa_outputs.weight']\n",
      "- This IS expected if you are initializing DistilBertModel from the checkpoint of a model trained on another task or with another architecture (e.g. initializing a BertForSequenceClassification model from a BertForPreTraining model).\n",
      "- This IS NOT expected if you are initializing DistilBertModel from the checkpoint of a model that you expect to be exactly identical (initializing a BertForSequenceClassification model from a BertForSequenceClassification model).\n"
     ]
    }
   ],
   "source": [
    "model = AutoModel.from_pretrained(model_path)\n",
    "model = DistilBertForQuestionAnswering.from_pretrained(model_path)\n",
    "tokenizer = AutoTokenizer.from_pretrained(model_path)"
   ]
  },
  {
   "cell_type": "markdown",
   "id": "a5382918-8ce4-4701-89df-e16a504974f7",
   "metadata": {},
   "source": [
    "## Providing context and question"
   ]
  },
  {
   "cell_type": "code",
   "execution_count": 49,
   "id": "ecaa95fa-0359-4333-8737-1226ce641b01",
   "metadata": {},
   "outputs": [],
   "source": [
    "context1 = 'We the team consisting of bhanu , keshav , courtney , morgan have built a model to answer question. We are studetns of northeastern university. NLP is our favourite subject'\n",
    "question12 = 'which university does the team study in'\n",
    "question11 = \"who are the team members?\"\n",
    "context2 = \"Charles Babbage, an English mechanical engineer and polymath, originated the concept of a programmable computer. Considered the father of the computer, he conceptualized and invented the first mechanical computer in the early 19th century. After working on his revolutionary difference engine, designed to aid in navigational calculations, in 1833 he realized that a much more general design, an Analytical Engine, was possible. The input of programs and data was to be provided to the machine via punched cards, a method being used at the time to direct mechanical looms such as the Jacquard loom. For output, the machine would have a printer, a curve plotter and a bell. The machine would also be able to punch numbers onto cards to be read in later. The Engine incorporated an arithmetic logic unit, control flow in the form of conditional branching and loops, and integrated memory, making it the first design for a general-purpose computer that could be described in modern terms as Turing-complete.\"\n",
    "question2 = \"when was the first computer invented\" \n",
    "context3 = 'many important complexity classes can be defined by bounding the time or space used by the algorithm some important complexity classes of decision problems defined in this manner are the following'\n",
    "question3 = 'what function is used by algorithms to define measurements like time or space'\n",
    "context4 = 'the neighborhood of sunnyside is on fresnos far southeast side bounded by chestnut avenue to the west its major thoroughfares are kings canyon avenue and clovis avenue although parts of sunnyside are within the city of fresno much of the neighborhood is a county island within fresno county largely developed in the 1950s through the 1970s it has recently experienced a surge in new home construction it is also the home of the sunnyside country club which maintains a golf course designed by william p bell'\n",
    "question4 = 'who designed the golf course located at the sunnyside country club'"
   ]
  },
  {
   "cell_type": "markdown",
   "id": "7fe3e745-037d-4f3d-acad-b4468cb0c0e0",
   "metadata": {},
   "source": [
    "### Running inference on the above question and answers"
   ]
  },
  {
   "cell_type": "code",
   "execution_count": 51,
   "id": "034e0919-8cfd-4f92-8cad-5793ebb8ca03",
   "metadata": {},
   "outputs": [],
   "source": [
    "def inference(question,context):\n",
    "    encoding = tokenizer.encode_plus(question, context)\n",
    "\n",
    "    input_ids, attention_mask = encoding[\"input_ids\"], encoding[\"attention_mask\"]\n",
    "\n",
    "    output = model(torch.tensor([input_ids]), attention_mask=torch.tensor([attention_mask]))\n",
    "\n",
    "    start_scores = output['start_logits']\n",
    "    end_scores = output['end_logits']\n",
    "\n",
    "    ans_tokens = input_ids[torch.argmax(start_scores) : torch.argmax(end_scores)+1]\n",
    "    answer_tokens = tokenizer.convert_ids_to_tokens(ans_tokens , skip_special_tokens=True)\n",
    "\n",
    "    print(\"\\nContext:\", context)\n",
    "    print (\"\\nQuestion: \",question)\n",
    "    print (\"\\nAnswer Tokens: \")\n",
    "    print (answer_tokens)\n",
    "\n",
    "    answer_tokens_to_string = tokenizer.convert_tokens_to_string(answer_tokens)\n",
    "\n",
    "    print (\"\\nAnswer: \",answer_tokens_to_string)\n"
   ]
  },
  {
   "cell_type": "code",
   "execution_count": 52,
   "id": "926dd329-c06f-4027-bfcf-628944efc87c",
   "metadata": {},
   "outputs": [
    {
     "name": "stdout",
     "output_type": "stream",
     "text": [
      "\n",
      "Context: many important complexity classes can be defined by bounding the time or space used by the algorithm some important complexity classes of decision problems defined in this manner are the following\n",
      "\n",
      "Question:  what function is used by algorithms to define measurements like time or space\n",
      "\n",
      "Answer Tokens: \n",
      "['bound', '##ing', 'the', 'time', 'or', 'space']\n",
      "\n",
      "Answer:  bounding the time or space\n"
     ]
    }
   ],
   "source": [
    "inference(question3,context3) # example from the test dataset"
   ]
  },
  {
   "cell_type": "code",
   "execution_count": 53,
   "id": "7c4bf61c-5dee-4ac3-a32c-4e0995924f13",
   "metadata": {},
   "outputs": [
    {
     "name": "stdout",
     "output_type": "stream",
     "text": [
      "\n",
      "Context: the neighborhood of sunnyside is on fresnos far southeast side bounded by chestnut avenue to the west its major thoroughfares are kings canyon avenue and clovis avenue although parts of sunnyside are within the city of fresno much of the neighborhood is a county island within fresno county largely developed in the 1950s through the 1970s it has recently experienced a surge in new home construction it is also the home of the sunnyside country club which maintains a golf course designed by william p bell\n",
      "\n",
      "Question:  who designed the golf course located at the sunnyside country club\n",
      "\n",
      "Answer Tokens: \n",
      "['william', 'p', 'bell']\n",
      "\n",
      "Answer:  william p bell\n"
     ]
    }
   ],
   "source": [
    "inference(question4,context4) # example from the test dataset"
   ]
  },
  {
   "cell_type": "code",
   "execution_count": 54,
   "id": "02b39abc-c5ad-4b7b-a0db-e2064e9e09f2",
   "metadata": {},
   "outputs": [
    {
     "name": "stdout",
     "output_type": "stream",
     "text": [
      "\n",
      "Context: Charles Babbage, an English mechanical engineer and polymath, originated the concept of a programmable computer. Considered the father of the computer, he conceptualized and invented the first mechanical computer in the early 19th century. After working on his revolutionary difference engine, designed to aid in navigational calculations, in 1833 he realized that a much more general design, an Analytical Engine, was possible. The input of programs and data was to be provided to the machine via punched cards, a method being used at the time to direct mechanical looms such as the Jacquard loom. For output, the machine would have a printer, a curve plotter and a bell. The machine would also be able to punch numbers onto cards to be read in later. The Engine incorporated an arithmetic logic unit, control flow in the form of conditional branching and loops, and integrated memory, making it the first design for a general-purpose computer that could be described in modern terms as Turing-complete.\n",
      "\n",
      "Question:  when was the first computer invented\n",
      "\n",
      "Answer Tokens: \n",
      "['early', '19th', 'century']\n",
      "\n",
      "Answer:  early 19th century\n"
     ]
    }
   ],
   "source": [
    "inference(question2,context2) # our own example context from wikipedia article, question our own"
   ]
  },
  {
   "cell_type": "code",
   "execution_count": 55,
   "id": "126ac3ae-cf42-4a21-9e06-84ba315d6956",
   "metadata": {},
   "outputs": [
    {
     "name": "stdout",
     "output_type": "stream",
     "text": [
      "\n",
      "Context: We the team consisting of bhanu , keshav , courtney , morgan have built a model to answer question. We are studetns of northeastern university. NLP is our favourite subject\n",
      "\n",
      "Question:  who are the team members?\n",
      "\n",
      "Answer Tokens: \n",
      "['b', '##han', '##u', ',', 'ke', '##sha', '##v', ',', 'courtney', ',', 'morgan']\n",
      "\n",
      "Answer:  bhanu, keshav, courtney, morgan\n"
     ]
    }
   ],
   "source": [
    "inference(question11,context1) # our own context, our own question"
   ]
  },
  {
   "cell_type": "code",
   "execution_count": 56,
   "id": "83d57d55-d998-4e93-afa4-f031a7d74178",
   "metadata": {},
   "outputs": [
    {
     "name": "stdout",
     "output_type": "stream",
     "text": [
      "\n",
      "Context: We the team consisting of bhanu , keshav , courtney , morgan have built a model to answer question. We are studetns of northeastern university. NLP is our favourite subject\n",
      "\n",
      "Question:  which university does the team study in\n",
      "\n",
      "Answer Tokens: \n",
      "['northeastern', 'university']\n",
      "\n",
      "Answer:  northeastern university\n"
     ]
    }
   ],
   "source": [
    "inference(question12,context1) # our own context, our own question"
   ]
  }
 ],
 "metadata": {
  "kernelspec": {
   "display_name": "Python 3 (ipykernel)",
   "language": "python",
   "name": "python3"
  },
  "language_info": {
   "codemirror_mode": {
    "name": "ipython",
    "version": 3
   },
   "file_extension": ".py",
   "mimetype": "text/x-python",
   "name": "python",
   "nbconvert_exporter": "python",
   "pygments_lexer": "ipython3",
   "version": "3.8.10"
  }
 },
 "nbformat": 4,
 "nbformat_minor": 5
}
